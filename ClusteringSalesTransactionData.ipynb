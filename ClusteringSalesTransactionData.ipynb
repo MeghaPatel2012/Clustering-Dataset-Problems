{
  "nbformat": 4,
  "nbformat_minor": 0,
  "metadata": {
    "colab": {
      "name": "Assignment4Problem1.ipynb",
      "provenance": [],
      "collapsed_sections": []
    },
    "kernelspec": {
      "name": "python3",
      "display_name": "Python 3"
    },
    "accelerator": "GPU"
  },
  "cells": [
    {
      "cell_type": "code",
      "metadata": {
        "id": "w1hDk9hDvOH7",
        "colab_type": "code",
        "outputId": "836d736d-8ac8-42df-b705-46e5544bd89e",
        "colab": {
          "base_uri": "https://localhost:8080/",
          "height": 51
        }
      },
      "source": [
        "\n",
        "import pandas as pd\n",
        "import numpy as np\n",
        "\n",
        "from sklearn.cluster import KMeans\n",
        "# Calculate silhouette_score\n",
        "from sklearn.metrics import silhouette_score\n",
        "\n",
        "import warnings\n",
        "warnings.filterwarnings(\"ignore\")\n",
        "\n",
        "from google.colab import drive\n",
        "drive.mount('/gdrive')\n",
        "#Change current working directory to gdrive\n",
        "%cd /gdrive\n"
      ],
      "execution_count": 0,
      "outputs": [
        {
          "output_type": "stream",
          "text": [
            "Drive already mounted at /gdrive; to attempt to forcibly remount, call drive.mount(\"/gdrive\", force_remount=True).\n",
            "/gdrive\n"
          ],
          "name": "stdout"
        }
      ]
    },
    {
      "cell_type": "code",
      "metadata": {
        "id": "BMwGQK7KAd7T",
        "colab_type": "code",
        "outputId": "6a90375f-eb43-42c1-e1e9-493742be5dfa",
        "colab": {
          "base_uri": "https://localhost:8080/",
          "height": 34
        }
      },
      "source": [
        "#Read files\n",
        "trainfile = r'/gdrive/My Drive/CIS508A4/Sales_Transactions_Dataset_Weekly.csv'\n",
        "trainData = pd.read_csv(trainfile) #creates a dataframe\n",
        "# testfile = r'/gdrive/My Drive/CIS508/Assignment4/ECG-TEST.csv'\n",
        "# testData = pd.read_csv(testfile)  #creates a dataframe\n",
        "\n",
        "print(trainData.shape)\n",
        "# print(testData.shape)\n"
      ],
      "execution_count": 0,
      "outputs": [
        {
          "output_type": "stream",
          "text": [
            "(811, 107)\n"
          ],
          "name": "stdout"
        }
      ]
    },
    {
      "cell_type": "code",
      "metadata": {
        "id": "SWOTk6C1Ao45",
        "colab_type": "code",
        "colab": {}
      },
      "source": [
        "\n",
        "X_train = trainData.drop([\"Product_Code\"], axis=1) "
      ],
      "execution_count": 0,
      "outputs": []
    },
    {
      "cell_type": "code",
      "metadata": {
        "id": "-Yd724taAv3o",
        "colab_type": "code",
        "outputId": "47cc998f-79f4-4dae-888b-39e41494fce1",
        "colab": {
          "base_uri": "https://localhost:8080/",
          "height": 34
        }
      },
      "source": [
        "#K-Means Clustering ========================================================================\n",
        "#Default Mode - K=8\n",
        "kmeans = KMeans()\n",
        "kmeans.fit(X_train)\n",
        "kmeans.labels_\n",
        "#kmeans.cluster_centers_\n",
        "# Print Silhouette measure\n",
        "print(silhouette_score(X_train, kmeans.labels_))\n",
        "# print(\"SSD:\",kmeans.inertia_)\n"
      ],
      "execution_count": 0,
      "outputs": [
        {
          "output_type": "stream",
          "text": [
            "0.36405673677225836\n"
          ],
          "name": "stdout"
        }
      ]
    },
    {
      "cell_type": "code",
      "metadata": {
        "id": "ZbHRfy6u0Bu5",
        "colab_type": "code",
        "outputId": "471d1b5b-963a-4c7a-8787-be1f6009d330",
        "colab": {
          "base_uri": "https://localhost:8080/",
          "height": 34
        }
      },
      "source": [
        "#Add Cluster Number to each datapoint + save file\n",
        "df_kmeans=X_train\n",
        "kmeans_predict_train=kmeans.predict(df_kmeans)\n",
        "df_kmeans['Cluster Number']=kmeans_predict_train\n",
        "print(df_kmeans.shape)\n",
        "#df_kmeans.head()\n",
        "#df_kmeans.dtypes\n",
        "\n",
        "export_csv = df_kmeans.to_csv(r'/gdrive/My Drive/CIS508A4/Default_kmeans1.csv')\n"
      ],
      "execution_count": 0,
      "outputs": [
        {
          "output_type": "stream",
          "text": [
            "(811, 107)\n"
          ],
          "name": "stdout"
        }
      ]
    },
    {
      "cell_type": "code",
      "metadata": {
        "id": "TR10pJaLuFVM",
        "colab_type": "code",
        "outputId": "587ecc91-bec3-4a6d-e52c-899fac3a8100",
        "colab": {
          "base_uri": "https://localhost:8080/",
          "height": 34
        }
      },
      "source": [
        "#K-Means Clustering ========================================================================\n",
        "\n",
        "\n",
        "kmeans = KMeans(n_clusters=3, init='random', algorithm='elkan')\n",
        "kmeans.fit(X_train)\n",
        "kmeans.labels_\n",
        "#kmeans.cluster_centers_\n",
        "#print(X_train.shape)\n",
        "#Print Silhouette measure\n",
        "print(silhouette_score(X_train, kmeans.labels_))"
      ],
      "execution_count": 0,
      "outputs": [
        {
          "output_type": "stream",
          "text": [
            "0.6148475791138338\n"
          ],
          "name": "stdout"
        }
      ]
    },
    {
      "cell_type": "code",
      "metadata": {
        "id": "qNI2J3V1L4b8",
        "colab_type": "code",
        "outputId": "46f02e2f-3316-4e9f-db50-09fdb5be734e",
        "colab": {
          "base_uri": "https://localhost:8080/",
          "height": 34
        }
      },
      "source": [
        "#Add Cluster Number to each datapoint + save file\n",
        "df_kmeans=X_train\n",
        "kmeans_predict_train=kmeans.predict(X_train)\n",
        "\n",
        "df_kmeans['Cluster Number']=kmeans_predict_train\n",
        "print(df_kmeans.shape)\n",
        "df_kmeans.head()\n",
        "df_kmeans.dtypes\n",
        "\n",
        "export_csv = df_kmeans.to_csv(r'/gdrive/My Drive/CIS508A4/Hyper_kmeans1.csv')\n"
      ],
      "execution_count": 0,
      "outputs": [
        {
          "output_type": "stream",
          "text": [
            "(811, 107)\n"
          ],
          "name": "stdout"
        }
      ]
    }
  ]
}