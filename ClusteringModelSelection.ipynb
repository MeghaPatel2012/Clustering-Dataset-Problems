{
  "nbformat": 4,
  "nbformat_minor": 0,
  "metadata": {
    "colab": {
      "name": "Assignment4Problem2.ipynb",
      "provenance": [],
      "collapsed_sections": []
    },
    "kernelspec": {
      "name": "python3",
      "display_name": "Python 3"
    },
    "accelerator": "GPU"
  },
  "cells": [
    {
      "cell_type": "code",
      "metadata": {
        "id": "w1hDk9hDvOH7",
        "colab_type": "code",
        "outputId": "e010635c-6e66-4726-d199-0a99ba99a64f",
        "colab": {
          "base_uri": "https://localhost:8080/",
          "height": 51
        }
      },
      "source": [
        "\n",
        "import pandas as pd\n",
        "import numpy as np\n",
        "\n",
        "from sklearn.cluster import KMeans\n",
        "# Calculate silhouette_score\n",
        "from sklearn.metrics import silhouette_score\n",
        "from sklearn import preprocessing\n",
        "import warnings\n",
        "warnings.filterwarnings(\"ignore\")\n",
        "\n",
        "from google.colab import drive\n",
        "drive.mount('/gdrive')\n",
        "#Change current working directory to gdrive\n",
        "%cd /gdrive\n"
      ],
      "execution_count": 70,
      "outputs": [
        {
          "output_type": "stream",
          "text": [
            "Drive already mounted at /gdrive; to attempt to forcibly remount, call drive.mount(\"/gdrive\", force_remount=True).\n",
            "/gdrive\n"
          ],
          "name": "stdout"
        }
      ]
    },
    {
      "cell_type": "code",
      "metadata": {
        "id": "BMwGQK7KAd7T",
        "colab_type": "code",
        "outputId": "897a135c-c21f-4ff6-926d-2f27551a0f8f",
        "colab": {
          "base_uri": "https://localhost:8080/",
          "height": 34
        }
      },
      "source": [
        "#Read files\n",
        "trainfile = r'/gdrive/My Drive/CIS508A4/Wholesale customers data.csv'\n",
        "trainData = pd.read_csv(trainfile) #creates a dataframe\n",
        "\n",
        "print(trainData.shape)\n"
      ],
      "execution_count": 71,
      "outputs": [
        {
          "output_type": "stream",
          "text": [
            "(440, 8)\n"
          ],
          "name": "stdout"
        }
      ]
    },
    {
      "cell_type": "code",
      "metadata": {
        "id": "SWOTk6C1Ao45",
        "colab_type": "code",
        "colab": {}
      },
      "source": [
        "\n",
        "X_train = trainData.drop(['Region','Channel'],axis=1)\n"
      ],
      "execution_count": 0,
      "outputs": []
    },
    {
      "cell_type": "code",
      "metadata": {
        "id": "sgiO8_sBE2pT",
        "colab_type": "code",
        "colab": {}
      },
      "source": [
        "# normalized_X = preprocessing.normalize(X_train)\n",
        "# print(normalized_X.shape)\n",
        "# normalized_X"
      ],
      "execution_count": 0,
      "outputs": []
    },
    {
      "cell_type": "code",
      "metadata": {
        "id": "-Yd724taAv3o",
        "colab_type": "code",
        "colab": {
          "base_uri": "https://localhost:8080/",
          "height": 34
        },
        "outputId": "212b3dc2-5a3a-4961-ac40-4ed6a729a40f"
      },
      "source": [
        "#K-Means Clustering ========================================================================\n",
        "#Default Mode - K=8\n",
        "kmeans = KMeans()\n",
        "kmeans.fit(X_train)\n",
        "kmeans.labels_\n",
        "#kmeans.cluster_centers_\n",
        "#Print Silhouette measure\n",
        "print(silhouette_score(X_train, kmeans.labels_))\n"
      ],
      "execution_count": 74,
      "outputs": [
        {
          "output_type": "stream",
          "text": [
            "0.3228515253509095\n"
          ],
          "name": "stdout"
        }
      ]
    },
    {
      "cell_type": "code",
      "metadata": {
        "id": "ZbHRfy6u0Bu5",
        "colab_type": "code",
        "colab": {
          "base_uri": "https://localhost:8080/",
          "height": 255
        },
        "outputId": "16e88f12-0fb6-4699-c00a-27f2f0461f36"
      },
      "source": [
        "#Add Cluster Number to each datapoint + save file\n",
        "df_kmeans=X_train\n",
        "kmeans_predict_train=kmeans.predict(df_kmeans)\n",
        "df_kmeans['Cluster Number']=kmeans_predict_train\n",
        "\n",
        "#df_kmeans.head()\n",
        "#df_kmeans.dtypes\n",
        "df = pd.concat([trainData.iloc[:,0:2],df_kmeans],axis=1)\n",
        "df.to_csv('/gdrive/My Drive/CIS508A4/Default_kmeansProb2.csv')\n",
        "res1= pd.read_csv('/gdrive/My Drive/CIS508A4/Default_kmeansProb2.csv')\n",
        "print(res1)\n"
      ],
      "execution_count": 75,
      "outputs": [
        {
          "output_type": "stream",
          "text": [
            "     Unnamed: 0  Channel  Region  ...  Detergents_Paper  Delicassen  Cluster Number\n",
            "0             0        2       3  ...              2674        1338               1\n",
            "1             1        2       3  ...              3293        1776               5\n",
            "2             2        2       3  ...              3516        7844               5\n",
            "3             3        1       3  ...               507        1788               1\n",
            "4             4        2       3  ...              1777        5185               1\n",
            "..          ...      ...     ...  ...               ...         ...             ...\n",
            "435         435        1       3  ...               182        2204               4\n",
            "436         436        1       3  ...                93        2346               4\n",
            "437         437        2       3  ...             14841        1867               0\n",
            "438         438        1       3  ...               168        2125               7\n",
            "439         439        1       3  ...               477          52               7\n",
            "\n",
            "[440 rows x 10 columns]\n"
          ],
          "name": "stdout"
        }
      ]
    },
    {
      "cell_type": "code",
      "metadata": {
        "id": "m20--wLVSosF",
        "colab_type": "code",
        "colab": {
          "base_uri": "https://localhost:8080/",
          "height": 34
        },
        "outputId": "90b79bd1-92a2-4af5-e6df-80d5242d7f98"
      },
      "source": [
        "c = [[0]*2]*8\n",
        "\n",
        "for j in range (0,8):\n",
        "  channel1 = 0\n",
        "  channel2 = 0\n",
        "  for i in range (0,440):\n",
        "    if res1.loc[i,\"Cluster Number\"] == j:\n",
        "      if res1.loc[i,\"Channel\"] == 1:\n",
        "        channel1 +=1\n",
        "      elif res1.loc[i,\"Channel\"] == 2:\n",
        "        channel2 += 1\n",
        "    count = [channel1,channel2]\n",
        "  c[j] = count\n",
        "\n",
        "print(c)"
      ],
      "execution_count": 76,
      "outputs": [
        {
          "output_type": "stream",
          "text": [
            "[[0, 20], [85, 22], [0, 4], [7, 0], [41, 7], [14, 74], [2, 0], [149, 15]]\n"
          ],
          "name": "stdout"
        }
      ]
    },
    {
      "cell_type": "code",
      "metadata": {
        "id": "rNcJnn3UUexN",
        "colab_type": "code",
        "colab": {
          "base_uri": "https://localhost:8080/",
          "height": 315
        },
        "outputId": "7592bb0e-10c8-4395-923f-05ee5a8f562e"
      },
      "source": [
        "import matplotlib.pyplot as plt\n",
        "N=8\n",
        "\n",
        "channel1=[]\n",
        "channel2=[]\n",
        "for i in range (0,8):\n",
        "  val = c[i][0]\n",
        "  channel1.append(val)\n",
        "\n",
        "for j in range (0,8):\n",
        "  val=c[j][1]\n",
        "  channel2.append(val)\n",
        "\n",
        "ind = np.arange(N)\n",
        "width=0.40\n",
        "\n",
        "p1 = plt.bar(ind,channel1,width)\n",
        "p2 = plt.bar(ind,channel2,width,bottom=channel1)\n",
        "\n",
        "plt.ylabel('Channel')\n",
        "plt.title('Channel based on clusters')\n",
        "plt.xticks(ind, ('C1','C2','C3','C4','C5','C6','C7','C8'))\n",
        "plt.legend((p1[0],p2[0]),('1','2'))\n",
        "plt.show()\n",
        "print('channel1',channel1)\n",
        "print('channel2',channel2)"
      ],
      "execution_count": 77,
      "outputs": [
        {
          "output_type": "display_data",
          "data": {
            "image/png": "[encoded data removed]",
            "text/plain": [
              "<Figure size 432x288 with 1 Axes>"
            ]
          },
          "metadata": {
            "tags": []
          }
        },
        {
          "output_type": "stream",
          "text": [
            "channel1 [0, 85, 0, 7, 41, 14, 2, 149]\n",
            "channel2 [20, 22, 4, 0, 7, 74, 0, 15]\n"
          ],
          "name": "stdout"
        }
      ]
    },
    {
      "cell_type": "code",
      "metadata": {
        "id": "gIdk3FinXS0S",
        "colab_type": "code",
        "colab": {
          "base_uri": "https://localhost:8080/",
          "height": 34
        },
        "outputId": "10cb6b5c-7f17-47c0-c12a-7439aca62572"
      },
      "source": [
        "c = [[0]*3]*8\n",
        "\n",
        "for j in range (0,8):\n",
        "  region1 = 0\n",
        "  region2 = 0\n",
        "  region3 = 0\n",
        "  for i in range (0,440):\n",
        "    if res1.loc[i,\"Cluster Number\"] == j:\n",
        "      if res1.loc[i,\"Region\"] == 1:\n",
        "        region1 +=1\n",
        "      elif res1.loc[i,\"Region\"] == 2:\n",
        "        region2 += 1\n",
        "      elif res1.loc[i,\"Region\"] == 3:\n",
        "        region3 += 1\n",
        "    count = [region1,region2,region3]\n",
        "  c[j] = count\n",
        "\n",
        "print(c)"
      ],
      "execution_count": 82,
      "outputs": [
        {
          "output_type": "stream",
          "text": [
            "[[4, 3, 13], [18, 12, 77], [0, 0, 4], [2, 0, 5], [7, 3, 38], [15, 11, 62], [0, 1, 1], [31, 17, 116]]\n"
          ],
          "name": "stdout"
        }
      ]
    },
    {
      "cell_type": "code",
      "metadata": {
        "id": "KWeGmHmSX4zV",
        "colab_type": "code",
        "colab": {
          "base_uri": "https://localhost:8080/",
          "height": 332
        },
        "outputId": "f5079df1-7cf2-467a-d82d-82295dd70aa8"
      },
      "source": [
        "import matplotlib.pyplot as plt\n",
        "N=8\n",
        "\n",
        "region1=[]\n",
        "region2=[]\n",
        "region3=[]\n",
        "for i in range (0,8):\n",
        "  val = c[i][0]\n",
        "  region1.append(val)\n",
        "\n",
        "for j in range (0,8):\n",
        "  val=c[j][1]\n",
        "  region2.append(val)\n",
        "\n",
        "for k in range (0,8):\n",
        "  val=c[k][2]\n",
        "  region3.append(val)\n",
        "\n",
        "ind = np.arange(N)\n",
        "width=0.40\n",
        "\n",
        "regions = np.add(region1,region2).tolist()\n",
        "p1 = plt.bar(ind,region1,width)\n",
        "p2 = plt.bar(ind,region2,width,bottom=region1)\n",
        "p3 = plt.bar (ind,region3,width,bottom=regions)\n",
        "plt.ylabel('Region')\n",
        "plt.title('Region based on clusters')\n",
        "plt.xticks(ind, ('R1','R2','R3','R4','R5','R6','R7','R8'))\n",
        "plt.legend((p1[0],p2[0],p3[0]),('1','2','3'))\n",
        "plt.show()\n",
        "print('region1',region1)\n",
        "print('region2',region2)\n",
        "print('region3',region3)"
      ],
      "execution_count": 88,
      "outputs": [
        {
          "output_type": "display_data",
          "data": {
            "image/png": "[encoded data removed]",
            "text/plain": [
              "<Figure size 432x288 with 1 Axes>"
            ]
          },
          "metadata": {
            "tags": []
          }
        },
        {
          "output_type": "stream",
          "text": [
            "region1 [4, 18, 0, 2, 7, 15, 0, 31]\n",
            "region2 [3, 12, 0, 0, 3, 11, 1, 17]\n",
            "region3 [13, 77, 4, 5, 38, 62, 1, 116]\n"
          ],
          "name": "stdout"
        }
      ]
    },
    {
      "cell_type": "code",
      "metadata": {
        "id": "TR10pJaLuFVM",
        "colab_type": "code",
        "colab": {
          "base_uri": "https://localhost:8080/",
          "height": 34
        },
        "outputId": "db05d473-9a6a-4006-9265-1154a92c91fa"
      },
      "source": [
        "#K-Means Clustering ========================================================================\n",
        "\n",
        "kmeans = KMeans(n_clusters=6,init='random',algorithm='elkan')\n",
        "kmeans.fit(X_train)\n",
        "kmeans.labels_\n",
        "#kmeans.cluster_centers_\n",
        "#print(X_train.shape)\n",
        "#Print Silhouette measure\n",
        "print(silhouette_score(X_train, kmeans.labels_))"
      ],
      "execution_count": 78,
      "outputs": [
        {
          "output_type": "stream",
          "text": [
            "0.3187562260632558\n"
          ],
          "name": "stdout"
        }
      ]
    },
    {
      "cell_type": "code",
      "metadata": {
        "id": "qNI2J3V1L4b8",
        "colab_type": "code",
        "colab": {
          "base_uri": "https://localhost:8080/",
          "height": 255
        },
        "outputId": "20d480b9-3c11-43b6-e860-c7573224c011"
      },
      "source": [
        "#Add Cluster Number to each datapoint + save file\n",
        "df_kmeans=X_train\n",
        "kmeans_predict_train=kmeans.predict(X_train)\n",
        "\n",
        "df_kmeans['Cluster Number']=kmeans_predict_train\n",
        "\n",
        "df = pd.concat([trainData.iloc[:,0:2],df_kmeans],axis=1)\n",
        "df.to_csv('/gdrive/My Drive/CIS508A4/Hyper_kmeansProb2.csv')\n",
        "res2= pd.read_csv('/gdrive/My Drive/CIS508A4/Hyper_kmeansProb2.csv')\n",
        "print(res2)\n"
      ],
      "execution_count": 89,
      "outputs": [
        {
          "output_type": "stream",
          "text": [
            "     Unnamed: 0  Channel  Region  ...  Detergents_Paper  Delicassen  Cluster Number\n",
            "0             0        2       3  ...              2674        1338               4\n",
            "1             1        2       3  ...              3293        1776               3\n",
            "2             2        2       3  ...              3516        7844               3\n",
            "3             3        1       3  ...               507        1788               4\n",
            "4             4        2       3  ...              1777        5185               4\n",
            "..          ...      ...     ...  ...               ...         ...             ...\n",
            "435         435        1       3  ...               182        2204               5\n",
            "436         436        1       3  ...                93        2346               5\n",
            "437         437        2       3  ...             14841        1867               2\n",
            "438         438        1       3  ...               168        2125               3\n",
            "439         439        1       3  ...               477          52               3\n",
            "\n",
            "[440 rows x 10 columns]\n"
          ],
          "name": "stdout"
        }
      ]
    },
    {
      "cell_type": "code",
      "metadata": {
        "id": "9p4izYznLigt",
        "colab_type": "code",
        "colab": {
          "base_uri": "https://localhost:8080/",
          "height": 34
        },
        "outputId": "8411cbad-3f90-44b9-8ea9-0c4a26870130"
      },
      "source": [
        "c1 = [[0]*2]*6\n",
        "\n",
        "for j in range (0,6):\n",
        "  channel1 = 0\n",
        "  channel2 = 0\n",
        "  for i in range (0,440):\n",
        "    if res2.loc[i,\"Cluster Number\"] == j:\n",
        "      if res2.loc[i,\"Channel\"] == 1:\n",
        "        channel1 +=1\n",
        "      elif res2.loc[i,\"Channel\"] == 2:\n",
        "        channel2 += 1\n",
        "    count = [channel1,channel2]\n",
        "  c1[j] = count\n",
        "\n",
        "print(c1)\n",
        "\n"
      ],
      "execution_count": 99,
      "outputs": [
        {
          "output_type": "stream",
          "text": [
            "[[0, 7], [8, 0], [7, 72], [154, 32], [90, 25], [39, 6]]\n"
          ],
          "name": "stdout"
        }
      ]
    },
    {
      "cell_type": "code",
      "metadata": {
        "id": "gL_5lKYgbq3x",
        "colab_type": "code",
        "colab": {
          "base_uri": "https://localhost:8080/",
          "height": 315
        },
        "outputId": "22a3dfeb-c9d0-43a9-c2ef-d39578ad30c5"
      },
      "source": [
        "import matplotlib.pyplot as plt\n",
        "N=6\n",
        "\n",
        "channel1=[]\n",
        "channel2=[]\n",
        "for i in range (0,6):\n",
        "  val = c1[i][0]\n",
        "  channel1.append(val)\n",
        "\n",
        "for j in range (0,6):\n",
        "  val=c1[j][1]\n",
        "  channel2.append(val)\n",
        "\n",
        "ind = np.arange(N)\n",
        "width=0.40\n",
        "\n",
        "p1 = plt.bar(ind,channel1,width)\n",
        "p2 = plt.bar(ind,channel2,width,bottom=channel1)\n",
        "\n",
        "plt.ylabel('Channel')\n",
        "plt.title('Channel based on clusters after Hyper Parameter')\n",
        "plt.xticks(ind, ('C1','C2','C3','C4','C5','C6'))\n",
        "plt.legend((p1[0],p2[0]),('1','2'))\n",
        "plt.show()\n",
        "print('channel1',channel1)\n",
        "print('channel2',channel2)"
      ],
      "execution_count": 103,
      "outputs": [
        {
          "output_type": "display_data",
          "data": {
            "image/png": "[encoded data removed]",
            "text/plain": [
              "<Figure size 432x288 with 1 Axes>"
            ]
          },
          "metadata": {
            "tags": []
          }
        },
        {
          "output_type": "stream",
          "text": [
            "channel1 [0, 8, 7, 154, 90, 39]\n",
            "channel2 [7, 0, 72, 32, 25, 6]\n"
          ],
          "name": "stdout"
        }
      ]
    },
    {
      "cell_type": "code",
      "metadata": {
        "id": "tP1bMeSXeenm",
        "colab_type": "code",
        "colab": {
          "base_uri": "https://localhost:8080/",
          "height": 34
        },
        "outputId": "736dac44-e1a0-4629-8f2e-3547c9e5400c"
      },
      "source": [
        "c2 = [[0]*3]*6\n",
        "\n",
        "for j in range (0,6):\n",
        "  region1 = 0\n",
        "  region2 = 0\n",
        "  region3 = 0\n",
        "  for i in range (0,440):\n",
        "    if res2.loc[i,\"Cluster Number\"] == j:\n",
        "      if res2.loc[i,\"Region\"] == 1:\n",
        "        region1 +=1\n",
        "      elif res2.loc[i,\"Region\"] == 2:\n",
        "        region2 += 1\n",
        "      elif res2.loc[i,\"Region\"] == 3:\n",
        "        region3 += 1\n",
        "    count = [region1,region2,region3]\n",
        "  c2[j] = count\n",
        "\n",
        "print(c2)"
      ],
      "execution_count": 98,
      "outputs": [
        {
          "output_type": "stream",
          "text": [
            "[[1, 1, 5], [1, 1, 6], [13, 11, 55], [35, 19, 132], [20, 12, 83], [7, 3, 35]]\n"
          ],
          "name": "stdout"
        }
      ]
    },
    {
      "cell_type": "code",
      "metadata": {
        "id": "nVWLLkFxgH8O",
        "colab_type": "code",
        "colab": {
          "base_uri": "https://localhost:8080/",
          "height": 332
        },
        "outputId": "db182b67-f3e4-4ebd-f660-9b5823e6224b"
      },
      "source": [
        "import matplotlib.pyplot as plt\n",
        "N=6\n",
        "\n",
        "region1=[]\n",
        "region2=[]\n",
        "region3=[]\n",
        "for i in range (0,6):\n",
        "  val = c2[i][0]\n",
        "  region1.append(val)\n",
        "\n",
        "for j in range (0,6):\n",
        "  val=c2[j][1]\n",
        "  region2.append(val)\n",
        "\n",
        "for k in range (0,6):\n",
        "  val=c2[k][2]\n",
        "  region3.append(val)\n",
        "\n",
        "ind = np.arange(N)\n",
        "width=0.40\n",
        "\n",
        "regions = np.add(region1,region2).tolist()\n",
        "p1 = plt.bar(ind,region1,width)\n",
        "p2 = plt.bar(ind,region2,width,bottom=region1)\n",
        "p3 = plt.bar (ind,region3,width,bottom=regions)\n",
        "plt.ylabel('Region')\n",
        "plt.title('Region based on clusters')\n",
        "plt.xticks(ind, ('R1','R2','R3','R4','R5','R6'))\n",
        "plt.legend((p1[0],p2[0],p3[0]),('1','2','3'))\n",
        "plt.show()\n",
        "print('region1',region1)\n",
        "print('region2',region2)\n",
        "print('region3',region3)"
      ],
      "execution_count": 102,
      "outputs": [
        {
          "output_type": "display_data",
          "data": {
            "image/png": "[encoded data removed]",
            "text/plain": [
              "<Figure size 432x288 with 1 Axes>"
            ]
          },
          "metadata": {
            "tags": []
          }
        },
        {
          "output_type": "stream",
          "text": [
            "region1 [1, 1, 13, 35, 20, 7]\n",
            "region2 [1, 1, 11, 19, 12, 3]\n",
            "region3 [5, 6, 55, 132, 83, 35]\n"
          ],
          "name": "stdout"
        }
      ]
    }
  ]
}